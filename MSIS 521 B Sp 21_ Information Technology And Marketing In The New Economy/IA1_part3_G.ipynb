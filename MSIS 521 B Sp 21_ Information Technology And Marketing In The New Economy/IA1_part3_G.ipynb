{
  "nbformat": 4,
  "nbformat_minor": 0,
  "metadata": {
    "colab": {
      "name": "IA1 - part3_G.ipynb",
      "provenance": [],
      "collapsed_sections": []
    },
    "kernelspec": {
      "name": "python3",
      "display_name": "Python 3"
    },
    "language_info": {
      "name": "python"
    }
  },
  "cells": [
    {
      "cell_type": "markdown",
      "metadata": {
        "id": "hECZSmNzwY98"
      },
      "source": [
        "\n",
        "\n",
        "\n",
        "We build a classifier based on CNN to recognize hand-written digits 0-9. We are using the mnist (Modified National Institute of Standards and Technology) dataset, which can be loaded: (train_digits, train_labels), (test_digits, test_labels) = datasets.mnist.load_data() It contains black-white images (28 x 28 pixels) and their labels of hand-written digit (60000 in training set and 10000 in test set).\n",
        "\n",
        "1. Plot first 9 images: Use plt.title() to display the labels with the format “Digit: 5” for example. You may want to use plt.tight_layout() to avoid overlaps.\n",
        "\n",
        "2. Prepare the data by: train_digits = train_digits.reshape(60000,28,28,1) train_labels = tf.keras.utils.to_categorical(train_labels, 10) Do the same for test set.\n",
        "\n",
        "3. Build your CNN model with Conv2D with (3, 3) filters and MaxPooling2D((2, 2)). Show the summary of your model.\n",
        "\n",
        "4. Compile and train your model. Consider the choices of optimizer, loss, and epochs. What are your accuracy and val_accuracy?\n",
        "\n",
        "5. Plot the history of model training against epoch.\n",
        "\n",
        "6. Evaluate the model with the test data.\n"
      ]
    },
    {
      "cell_type": "code",
      "metadata": {
        "id": "ICeWrmXiwP9V"
      },
      "source": [
        "import tensorflow as tf\n",
        "from tensorflow.keras import datasets, models, layers\n",
        "import matplotlib.pyplot as plt"
      ],
      "execution_count": 1,
      "outputs": []
    },
    {
      "cell_type": "code",
      "metadata": {
        "id": "_bWF2c3UwXVz",
        "colab": {
          "base_uri": "https://localhost:8080/"
        },
        "outputId": "f620ff63-c4d7-49b6-bb96-79ca92fd1728"
      },
      "source": [
        "(train_digits, train_labels), (test_digits, test_labels) = datasets.mnist.load_data()"
      ],
      "execution_count": 2,
      "outputs": [
        {
          "output_type": "stream",
          "text": [
            "Downloading data from https://storage.googleapis.com/tensorflow/tf-keras-datasets/mnist.npz\n",
            "11493376/11490434 [==============================] - 0s 0us/step\n"
          ],
          "name": "stdout"
        }
      ]
    },
    {
      "cell_type": "code",
      "metadata": {
        "colab": {
          "base_uri": "https://localhost:8080/",
          "height": 729
        },
        "id": "YGoEYKPMxKD8",
        "outputId": "b84f29d5-80e1-40c2-ec2e-4d1f1feb5186"
      },
      "source": [
        "#1\n",
        "train_digits, test_digits = train_digits / 255.0, test_digits / 255.0 \n",
        "\n",
        "plt.figure(figsize=(10,10))\n",
        "for i in range(9):\n",
        "    plt.subplot(3,3,i+1)\n",
        "    plt.xticks([])\n",
        "    plt.yticks([])\n",
        "    plt.grid(False)\n",
        "    plt.imshow(train_digits[i], cmap=plt.cm.binary)\n",
        "    plt.title('Digit: {}'.format(train_labels[i]))\n",
        "    plt.tight_layout()\n",
        "plt.show() "
      ],
      "execution_count": 3,
      "outputs": [
        {
          "output_type": "display_data",
          "data": {
            "image/png": "[encoded data removed]",
            "text/plain": [
              "<Figure size 720x720 with 9 Axes>"
            ]
          },
          "metadata": {
            "tags": []
          }
        }
      ]
    },
    {
      "cell_type": "code",
      "metadata": {
        "id": "YJazp61O0Hu3"
      },
      "source": [
        "#2\n",
        "train_digits = train_digits.reshape(60000,28,28,1) \n",
        "train_labels = tf.keras.utils.to_categorical(train_labels, 10) \n",
        "\n",
        "test_digits = test_digits.reshape(10000,28,28,1) \n",
        "test_labels = tf.keras.utils.to_categorical(test_labels, 10) "
      ],
      "execution_count": 4,
      "outputs": []
    },
    {
      "cell_type": "code",
      "metadata": {
        "id": "6WWArh7C7PP-"
      },
      "source": [
        "import numpy as np\n",
        "rand=np.arange(60000)\n",
        "np.random.shuffle(rand)\n",
        "train_no=rand[:50000]\n",
        "\n",
        "val_no=np.setdiff1d(rand,train_no)\n",
        "\n",
        "training_digits,validation_digits= train_digits[train_no,:,:],train_digits[val_no,:,:]\n",
        "training_labels,validation_labels =train_labels[train_no],train_labels[val_no]"
      ],
      "execution_count": 5,
      "outputs": []
    },
    {
      "cell_type": "code",
      "metadata": {
        "colab": {
          "base_uri": "https://localhost:8080/"
        },
        "id": "9lLGObBr0ZSf",
        "outputId": "0caf3946-daf7-4290-c814-6ce3a6259c4a"
      },
      "source": [
        "#3\n",
        "model = models.Sequential()\n",
        "model.add(layers.Conv2D(32, (3, 3), activation='relu', input_shape=(28, 28,1)))\n",
        "model.add(layers.MaxPooling2D((2, 2)))\n",
        "model.add(layers.Conv2D(64, (3, 3), activation='relu'))\n",
        "model.add(layers.MaxPooling2D((2, 2)))\n",
        "model.add(layers.Conv2D(64, (3, 3), activation='relu')) \n",
        "model.add(layers.Flatten())\n",
        "model.add(layers.Dense(500, activation = 'relu'))\n",
        "model.add(layers.Dense(10, activation = 'softmax'))\n",
        "model.summary()"
      ],
      "execution_count": 6,
      "outputs": [
        {
          "output_type": "stream",
          "text": [
            "Model: \"sequential\"\n",
            "_________________________________________________________________\n",
            "Layer (type)                 Output Shape              Param #   \n",
            "=================================================================\n",
            "conv2d (Conv2D)              (None, 26, 26, 32)        320       \n",
            "_________________________________________________________________\n",
            "max_pooling2d (MaxPooling2D) (None, 13, 13, 32)        0         \n",
            "_________________________________________________________________\n",
            "conv2d_1 (Conv2D)            (None, 11, 11, 64)        18496     \n",
            "_________________________________________________________________\n",
            "max_pooling2d_1 (MaxPooling2 (None, 5, 5, 64)          0         \n",
            "_________________________________________________________________\n",
            "conv2d_2 (Conv2D)            (None, 3, 3, 64)          36928     \n",
            "_________________________________________________________________\n",
            "flatten (Flatten)            (None, 576)               0         \n",
            "_________________________________________________________________\n",
            "dense (Dense)                (None, 500)               288500    \n",
            "_________________________________________________________________\n",
            "dense_1 (Dense)              (None, 10)                5010      \n",
            "=================================================================\n",
            "Total params: 349,254\n",
            "Trainable params: 349,254\n",
            "Non-trainable params: 0\n",
            "_________________________________________________________________\n"
          ],
          "name": "stdout"
        }
      ]
    },
    {
      "cell_type": "code",
      "metadata": {
        "colab": {
          "base_uri": "https://localhost:8080/"
        },
        "id": "NkbJc-hK0mkv",
        "outputId": "74ce4801-713f-45ee-9359-418bceba2af6"
      },
      "source": [
        "#4\n",
        "model.compile(optimizer='adam',\n",
        "              loss='categorical_crossentropy',\n",
        "              metrics=['accuracy'])\n",
        "\n",
        "history = model.fit(training_digits, training_labels, epochs=10, \n",
        "                    validation_data=(validation_digits, validation_labels)) "
      ],
      "execution_count": 7,
      "outputs": [
        {
          "output_type": "stream",
          "text": [
            "Epoch 1/10\n",
            "1563/1563 [==============================] - 35s 22ms/step - loss: 0.3241 - accuracy: 0.8938 - val_loss: 0.0556 - val_accuracy: 0.9843\n",
            "Epoch 2/10\n",
            "1563/1563 [==============================] - 35s 22ms/step - loss: 0.0465 - accuracy: 0.9849 - val_loss: 0.0491 - val_accuracy: 0.9873\n",
            "Epoch 3/10\n",
            "1563/1563 [==============================] - 35s 22ms/step - loss: 0.0280 - accuracy: 0.9912 - val_loss: 0.0472 - val_accuracy: 0.9860\n",
            "Epoch 4/10\n",
            "1563/1563 [==============================] - 35s 23ms/step - loss: 0.0218 - accuracy: 0.9931 - val_loss: 0.0461 - val_accuracy: 0.9860\n",
            "Epoch 5/10\n",
            "1563/1563 [==============================] - 36s 23ms/step - loss: 0.0179 - accuracy: 0.9948 - val_loss: 0.0605 - val_accuracy: 0.9847\n",
            "Epoch 6/10\n",
            "1563/1563 [==============================] - 36s 23ms/step - loss: 0.0179 - accuracy: 0.9946 - val_loss: 0.0662 - val_accuracy: 0.9863\n",
            "Epoch 7/10\n",
            "1563/1563 [==============================] - 36s 23ms/step - loss: 0.0116 - accuracy: 0.9968 - val_loss: 0.0507 - val_accuracy: 0.9884\n",
            "Epoch 8/10\n",
            "1563/1563 [==============================] - 36s 23ms/step - loss: 0.0116 - accuracy: 0.9963 - val_loss: 0.0416 - val_accuracy: 0.9908\n",
            "Epoch 9/10\n",
            "1563/1563 [==============================] - 36s 23ms/step - loss: 0.0078 - accuracy: 0.9973 - val_loss: 0.0512 - val_accuracy: 0.9901\n",
            "Epoch 10/10\n",
            "1563/1563 [==============================] - 37s 23ms/step - loss: 0.0073 - accuracy: 0.9976 - val_loss: 0.0481 - val_accuracy: 0.9892\n"
          ],
          "name": "stdout"
        }
      ]
    },
    {
      "cell_type": "code",
      "metadata": {
        "colab": {
          "base_uri": "https://localhost:8080/",
          "height": 301
        },
        "id": "6kxr1BWjc7YI",
        "outputId": "a00a20fc-422e-477f-b32a-edb8d118c824"
      },
      "source": [
        "#5\n",
        "plt.plot(history.history['accuracy'], label='accuracy')\n",
        "plt.plot(history.history['val_accuracy'], label = 'val_accuracy')\n",
        "plt.xlabel('Epoch')\n",
        "plt.ylabel('Accuracy')\n",
        "plt.ylim([0.5, 1])\n",
        "plt.legend(loc='lower right')\n"
      ],
      "execution_count": 8,
      "outputs": [
        {
          "output_type": "execute_result",
          "data": {
            "text/plain": [
              "<matplotlib.legend.Legend at 0x7fe7ba3f7f10>"
            ]
          },
          "metadata": {
            "tags": []
          },
          "execution_count": 8
        },
        {
          "output_type": "display_data",
          "data": {
            "image/png": "[encoded data removed]",
            "text/plain": [
              "<Figure size 432x288 with 1 Axes>"
            ]
          },
          "metadata": {
            "tags": [],
            "needs_background": "light"
          }
        }
      ]
    },
    {
      "cell_type": "code",
      "metadata": {
        "colab": {
          "base_uri": "https://localhost:8080/"
        },
        "id": "wkwdzdN_dD6M",
        "outputId": "0734e207-8aa6-40ed-9054-951d9bc2ec9d"
      },
      "source": [
        "#6\n",
        "test_loss, test_acc = model.evaluate(test_digits,  test_labels, verbose=2) \n",
        "\n",
        "print(test_acc) "
      ],
      "execution_count": 10,
      "outputs": [
        {
          "output_type": "stream",
          "text": [
            "313/313 - 2s - loss: 0.0439 - accuracy: 0.9901\n",
            "0.9901000261306763\n"
          ],
          "name": "stdout"
        }
      ]
    }
  ]
}